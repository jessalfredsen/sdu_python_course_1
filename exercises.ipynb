{
 "cells": [
  {
   "cell_type": "markdown",
   "metadata": {},
   "source": [
    "### ØVELSER: BASAL PYTHON"
   ]
  },
  {
   "cell_type": "markdown",
   "metadata": {},
   "source": [
    "__1. opgave:__  \n",
    "Lav en liste af heltal i stigende rækkefølge fra 1 til 110 ($1, 2, 3, 4,..., 110$). Udskriv listen."
   ]
  },
  {
   "cell_type": "code",
   "execution_count": null,
   "metadata": {},
   "outputs": [],
   "source": []
  },
  {
   "cell_type": "markdown",
   "metadata": {},
   "source": [
    "__2. opgave:__  \n",
    "Tilgå elementer i listen fra opgave 1 ved at bruge slicing. Lav en ny liste, der indeholder tallene 55 til 79. Udskriv listen."
   ]
  },
  {
   "cell_type": "code",
   "execution_count": null,
   "metadata": {},
   "outputs": [],
   "source": []
  },
  {
   "cell_type": "markdown",
   "metadata": {},
   "source": [
    "__3. opgave:__  \n",
    "Lav en funktion med `def`, der tager et tal som input og retunerer tallet ganget med sig selv plus 3.  \n",
    "$f(x)=x(x+3)$"
   ]
  },
  {
   "cell_type": "code",
   "execution_count": null,
   "metadata": {},
   "outputs": [],
   "source": []
  },
  {
   "cell_type": "markdown",
   "metadata": {},
   "source": [
    "__4. opgave:__  \n",
    "Brug din nye funktion på alle tal i listen fra opgave 2. Anvend en `for` loop til at gennemgå alle elementer i listen og skriv løbende de udregnede værdier ind i en ny liste med `append`. Udskriv den nye liste."
   ]
  },
  {
   "cell_type": "code",
   "execution_count": null,
   "metadata": {},
   "outputs": [],
   "source": []
  },
  {
   "cell_type": "markdown",
   "metadata": {},
   "source": [
    "__5. opgave:__  \n",
    "Gør det samme som i opgave 4, men ved hjælp af list comprehension."
   ]
  },
  {
   "cell_type": "code",
   "execution_count": null,
   "metadata": {},
   "outputs": [],
   "source": []
  },
  {
   "cell_type": "markdown",
   "metadata": {},
   "source": [
    "### ØVELSER: DATA ANALYSE"
   ]
  },
  {
   "cell_type": "markdown",
   "metadata": {},
   "source": [
    "__1. opgave:__  \n",
    "Importer de python biblioteker, som vil blive brugt i opgaverne. Der skal arbejdes med numpy arrays, visualiseringer og lineær regression."
   ]
  },
  {
   "cell_type": "code",
   "execution_count": null,
   "metadata": {},
   "outputs": [],
   "source": []
  },
  {
   "cell_type": "markdown",
   "metadata": {},
   "source": [
    "__2. opgave:__  \n",
    "Indlæs 4 forskellige datasæt med x-værdier og y-værdier fra følgende filer: **Data1.csv**, **Data2.csv**, **Data3.csv**, **Data4.csv**.  \n",
    "Sørg for at værdierne bliver gemt som numpy arrays.  "
   ]
  },
  {
   "cell_type": "code",
   "execution_count": null,
   "metadata": {},
   "outputs": [],
   "source": []
  },
  {
   "cell_type": "markdown",
   "metadata": {},
   "source": [
    "__3. opgave:__  \n",
    "Udregn middelværdien og variansen for hver variabel i hvert datasæt. Udskriv de udregnede værdier, så de kan sammenlignes på tværs af datasæt (for at få et bedre overblik kan man bruge string formatting til kun at printe 2 decimaler). Brug numpy indbyggede metoder til at beregne middelværdier og varianser."
   ]
  },
  {
   "cell_type": "code",
   "execution_count": null,
   "metadata": {},
   "outputs": [],
   "source": []
  },
  {
   "cell_type": "markdown",
   "metadata": {},
   "source": [
    "__4. opgave:__  \n",
    "Brug numpy til at beregne Pearson correlation mellem x- og y-værdierne i hvert datasæt. Udskriv de udregnede værdier, så de kan sammenlignes på tværs af datasæt."
   ]
  },
  {
   "cell_type": "code",
   "execution_count": null,
   "metadata": {},
   "outputs": [],
   "source": []
  },
  {
   "cell_type": "markdown",
   "metadata": {},
   "source": [
    "__5. opgave:__  \n",
    "I denne opgave skal man lave en lineær regression på hvert datasæt, der skal altså fittes en ret linje igennem hvert datasæt, $f(x)=a·x+b$. Brug **stats.linregress(x, y)** fra scipy biblioteket. Udskriv $slope$- og $intercept$-værdierne, så de kan sammenlignes på tværs af datasæt."
   ]
  },
  {
   "cell_type": "code",
   "execution_count": null,
   "metadata": {},
   "outputs": [],
   "source": []
  },
  {
   "cell_type": "markdown",
   "metadata": {},
   "source": [
    "__6. opgave:__  \n",
    "Lav et scatterplot over punkterne i hvert datasæt (dvs. lav 4 scatter plots). Brug det samme interval på x- og y-akserne for hvert datasæt. Inkluder gerne den rette linje fra de lineære regressioner i forrige opgave."
   ]
  },
  {
   "cell_type": "code",
   "execution_count": null,
   "metadata": {},
   "outputs": [],
   "source": []
  },
  {
   "cell_type": "markdown",
   "metadata": {},
   "source": [
    "__7. opgave (avanceret):__  \n",
    "I denne opgave skal man:  \n",
    "* Indlæs datasættet som indeholder personers cpr-nummer, vægt og højde i et pandas dataframe. Samme datasæt blev brugt i præsentationen og kan findes i filen: **df_personal_characteristic.csv**\n",
    "* Tilføj en ny kolonne der indeholder køn.\n",
    "* Tilføj en ny kolonne der indeholder BMI. $$BMI = \\frac{vægt}{{højde}^2}$$\n",
    "* Afprøv forskellige klassifikationsmodeller fra scikit-learn til at prædiktere køn ud fra vægt og højde. Start med *Support Vector Machine*.\n",
    "* Mål modellernes accuracy og visualiser det med matplotlib."
   ]
  },
  {
   "cell_type": "code",
   "execution_count": null,
   "metadata": {},
   "outputs": [],
   "source": []
  }
 ],
 "metadata": {
  "kernelspec": {
   "display_name": "Python 3",
   "language": "python",
   "name": "python3"
  },
  "language_info": {
   "codemirror_mode": {
    "name": "ipython",
    "version": 3
   },
   "file_extension": ".py",
   "mimetype": "text/x-python",
   "name": "python",
   "nbconvert_exporter": "python",
   "pygments_lexer": "ipython3",
   "version": "3.7.0"
  }
 },
 "nbformat": 4,
 "nbformat_minor": 2
}
